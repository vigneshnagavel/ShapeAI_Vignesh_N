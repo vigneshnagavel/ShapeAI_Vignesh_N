{
  "nbformat": 4,
  "nbformat_minor": 0,
  "metadata": {
    "colab": {
      "name": "VIGNESH N.ipynb",
      "provenance": [],
      "collapsed_sections": []
    },
    "kernelspec": {
      "name": "python3",
      "display_name": "Python 3"
    },
    "language_info": {
      "name": "python"
    }
  },
  "cells": [
    {
      "cell_type": "code",
      "metadata": {
        "colab": {
          "base_uri": "https://localhost:8080/"
        },
        "id": "2Qe2j0Csloeh",
        "outputId": "add15196-4d7c-4104-9e0d-83eb1c7c1286"
      },
      "source": [
        "from keras.datasets import mnist\n",
        "\n",
        "data =  mnist.load_data()"
      ],
      "execution_count": 2,
      "outputs": [
        {
          "output_type": "stream",
          "text": [
            "Downloading data from https://storage.googleapis.com/tensorflow/tf-keras-datasets/mnist.npz\n",
            "11493376/11490434 [==============================] - 0s 0us/step\n"
          ],
          "name": "stdout"
        }
      ]
    },
    {
      "cell_type": "code",
      "metadata": {
        "id": "M4i0l5pil37o"
      },
      "source": [
        "((x_train,y_train),(x_test,y_test)) = data"
      ],
      "execution_count": 8,
      "outputs": []
    },
    {
      "cell_type": "code",
      "metadata": {
        "colab": {
          "base_uri": "https://localhost:8080/"
        },
        "id": "LBELeNaGmRr0",
        "outputId": "9a5e42ef-407a-45cf-9c01-9c28ac912a8e"
      },
      "source": [
        "x_train[0].shape"
      ],
      "execution_count": 9,
      "outputs": [
        {
          "output_type": "execute_result",
          "data": {
            "text/plain": [
              "(28, 28)"
            ]
          },
          "metadata": {
            "tags": []
          },
          "execution_count": 9
        }
      ]
    },
    {
      "cell_type": "code",
      "metadata": {
        "id": "abN1-Z9TnNio"
      },
      "source": [
        "x_train = x_train.reshape((x_train.shape[0],28*28)).astype(\"float32\")\n",
        "x_test = x_test.reshape((x_test.shape[0],28*28)).astype(\"float32\")"
      ],
      "execution_count": 10,
      "outputs": []
    },
    {
      "cell_type": "code",
      "metadata": {
        "id": "x9if49_loVZq"
      },
      "source": [
        "x_train = x_train/255\n",
        "x_test = x_test/255"
      ],
      "execution_count": 11,
      "outputs": []
    },
    {
      "cell_type": "code",
      "metadata": {
        "id": "Z8WSZiN2IcFE"
      },
      "source": [
        "from keras.utils import np_utils\n",
        "\n",
        "y_train = np_utils.to_categorical(y_train)\n",
        "y_test = np_utils.to_categorical(y_test)\n",
        "num_classes = y_test.shape[1]"
      ],
      "execution_count": 12,
      "outputs": []
    },
    {
      "cell_type": "code",
      "metadata": {
        "id": "q9DZ_ifEJPTS"
      },
      "source": [
        "from keras.models import Sequential\n",
        "from keras.layers import Dense"
      ],
      "execution_count": 13,
      "outputs": []
    },
    {
      "cell_type": "code",
      "metadata": {
        "id": "bYaKJ4U7Jm8G"
      },
      "source": [
        "model = Sequential()\n",
        "\n",
        "model.add(Dense(32,input_dim = 28*28,activation=\"relu\"))\n",
        "\n",
        "model.add(Dense(64,activation=\"relu\"))\n",
        "\n",
        "model.add(Dense(10,activation=\"softmax\"))"
      ],
      "execution_count": 14,
      "outputs": []
    },
    {
      "cell_type": "code",
      "metadata": {
        "id": "8cKcd8SDKUl1"
      },
      "source": [
        "model.compile(loss=\"categorical_crossentropy\",optimizer=\"adam\",metrics=[\"accuracy\"])"
      ],
      "execution_count": 15,
      "outputs": []
    },
    {
      "cell_type": "code",
      "metadata": {
        "colab": {
          "base_uri": "https://localhost:8080/"
        },
        "id": "CNzgKq3_Kp37",
        "outputId": "a8a0584e-2400-4b3e-b4d0-6e3001076a39"
      },
      "source": [
        "model.summary()"
      ],
      "execution_count": 16,
      "outputs": [
        {
          "output_type": "stream",
          "text": [
            "Model: \"sequential\"\n",
            "_________________________________________________________________\n",
            "Layer (type)                 Output Shape              Param #   \n",
            "=================================================================\n",
            "dense (Dense)                (None, 32)                25120     \n",
            "_________________________________________________________________\n",
            "dense_1 (Dense)              (None, 64)                2112      \n",
            "_________________________________________________________________\n",
            "dense_2 (Dense)              (None, 10)                650       \n",
            "=================================================================\n",
            "Total params: 27,882\n",
            "Trainable params: 27,882\n",
            "Non-trainable params: 0\n",
            "_________________________________________________________________\n"
          ],
          "name": "stdout"
        }
      ]
    },
    {
      "cell_type": "code",
      "metadata": {
        "colab": {
          "base_uri": "https://localhost:8080/"
        },
        "id": "NMMQLU6vKxjn",
        "outputId": "72b38f0f-8ad1-495b-8c4b-e0eb940c0e38"
      },
      "source": [
        "model.fit(x_train,y_train,validation_split=0.2,epochs=10,batch_size=100)"
      ],
      "execution_count": 17,
      "outputs": [
        {
          "output_type": "stream",
          "text": [
            "Epoch 1/10\n",
            "480/480 [==============================] - 2s 3ms/step - loss: 0.8789 - accuracy: 0.7395 - val_loss: 0.2276 - val_accuracy: 0.9336\n",
            "Epoch 2/10\n",
            "480/480 [==============================] - 1s 3ms/step - loss: 0.2171 - accuracy: 0.9368 - val_loss: 0.1813 - val_accuracy: 0.9490\n",
            "Epoch 3/10\n",
            "480/480 [==============================] - 1s 3ms/step - loss: 0.1672 - accuracy: 0.9509 - val_loss: 0.1587 - val_accuracy: 0.9559\n",
            "Epoch 4/10\n",
            "480/480 [==============================] - 1s 3ms/step - loss: 0.1358 - accuracy: 0.9602 - val_loss: 0.1426 - val_accuracy: 0.9586\n",
            "Epoch 5/10\n",
            "480/480 [==============================] - 1s 3ms/step - loss: 0.1172 - accuracy: 0.9649 - val_loss: 0.1287 - val_accuracy: 0.9650\n",
            "Epoch 6/10\n",
            "480/480 [==============================] - 1s 3ms/step - loss: 0.1017 - accuracy: 0.9687 - val_loss: 0.1403 - val_accuracy: 0.9618\n",
            "Epoch 7/10\n",
            "480/480 [==============================] - 1s 3ms/step - loss: 0.0909 - accuracy: 0.9723 - val_loss: 0.1319 - val_accuracy: 0.9627\n",
            "Epoch 8/10\n",
            "480/480 [==============================] - 1s 3ms/step - loss: 0.0810 - accuracy: 0.9758 - val_loss: 0.1201 - val_accuracy: 0.9661\n",
            "Epoch 9/10\n",
            "480/480 [==============================] - 1s 3ms/step - loss: 0.0754 - accuracy: 0.9769 - val_loss: 0.1193 - val_accuracy: 0.9654\n",
            "Epoch 10/10\n",
            "480/480 [==============================] - 1s 3ms/step - loss: 0.0692 - accuracy: 0.9785 - val_loss: 0.1184 - val_accuracy: 0.9664\n"
          ],
          "name": "stdout"
        },
        {
          "output_type": "execute_result",
          "data": {
            "text/plain": [
              "<tensorflow.python.keras.callbacks.History at 0x7f62b75c1550>"
            ]
          },
          "metadata": {
            "tags": []
          },
          "execution_count": 17
        }
      ]
    },
    {
      "cell_type": "code",
      "metadata": {
        "colab": {
          "base_uri": "https://localhost:8080/"
        },
        "id": "n20QqqNLLMKL",
        "outputId": "0826a5a5-8258-46a6-c100-f2e8f8178527"
      },
      "source": [
        "scores = model.evaluate(x_test,y_test)\n",
        "print(scores)"
      ],
      "execution_count": 18,
      "outputs": [
        {
          "output_type": "stream",
          "text": [
            "313/313 [==============================] - 1s 2ms/step - loss: 0.1121 - accuracy: 0.9670\n",
            "[0.11205103993415833, 0.9670000076293945]\n"
          ],
          "name": "stdout"
        }
      ]
    }
  ]
}